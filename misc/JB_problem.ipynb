{
 "cells": [
  {
   "cell_type": "markdown",
   "metadata": {},
   "source": [
    "# JB's problem"
   ]
  },
  {
   "cell_type": "markdown",
   "metadata": {},
   "source": [
    "### Loading CSV data using pandas"
   ]
  },
  {
   "cell_type": "code",
   "execution_count": 34,
   "metadata": {},
   "outputs": [],
   "source": [
    "import pandas as pd\n",
    "\n",
    "files_names = [\"candidats-12.csv\", \"prestations-5.csv\", \"projets-5.csv\", \"ressources-13.csv\"]\n",
    "\n",
    "dataframes = {}\n",
    "\n",
    "for file in files_names:\n",
    "    dataframes[file] = pd.read_csv(file, encoding='latin1', sep=\";\", decimal=\",\")\n",
    "\n",
    "df1 = dataframes[\"candidats-12.csv\"]\n",
    "df2 = dataframes[\"prestations-5.csv\"]\n",
    "df3 = dataframes[\"projets-5.csv\"]\n",
    "df4 = dataframes[\"ressources-13.csv\"]\n",
    "\n"
   ]
  },
  {
   "cell_type": "markdown",
   "metadata": {},
   "source": [
    "## Exporting the first 5 rows of DataFrames to a text file"
   ]
  },
  {
   "cell_type": "code",
   "execution_count": 35,
   "metadata": {},
   "outputs": [
    {
     "name": "stderr",
     "output_type": "stream",
     "text": [
      "/var/folders/bq/65c_b3r93xb3dvsc65r9p83h0000gq/T/ipykernel_3262/508710992.py:1: FutureWarning: Using short name for 'orient' is deprecated. Only the options: ('dict', list, 'series', 'split', 'records', 'index') will be used in a future version. Use one of the above to silence this warning.\n",
      "  first_5_rows = df4.head(5).to_dict(orient='record')\n"
     ]
    }
   ],
   "source": [
    "first_5_rows = df4.head(5).to_dict(orient='record')\n",
    "with open(\"df4.txt\", \"w\") as file:\n",
    "    for row in first_5_rows:\n",
    "        file.write(str(row) + \"\\n\\n\")\n",
    "\n",
    "## DF1:\n",
    "        \n",
    "# {'Référence interne': 'CAND9133', 'Civilité': 'M.', 'Nom': 'MALET', 'Prénom': 'ELODIE', 'Type': 'Non défini', 'Titre': 'Développeuse PHP Vue/React', 'Compétences': nan, \"Domaines d'application\": nan, 'Formation': nan, 'Expérience': nan, 'Disponibilité': nan, 'Outils': nan, 'Mobilité': nan, 'Étape': 'En process', 'Evaluation globale': nan, 'Provenance - Type': 'HelloWork', 'Provenance - Détail': nan, 'Email 1': 'elodiemalet.web@gmail.com', 'Email 2': nan, 'Email 3': nan, 'Téléphone 1': '06 07 87 28 45', 'Téléphone 2': nan, 'Téléphone 3': nan, 'Date de naissance': nan, 'Nationalité': 'Française', 'Situation familiale': 'Célibataire', 'Nombre de positionnements actif': 0, 'Adresse': '14 Rue Bausset', 'Code Postal': '75015', 'Ville': 'Paris', 'Pays': 'France', 'Devise': 'EUR Euro', 'Salaire actuel': 0, 'Salaire brut souhaité (fourchette) - Minimum': 0, 'Salaire brut souhaité (fourchette) - Maximum': 0, 'Tarif journalier HT actuel': 0, 'Tarif journalier HT souhaité - Minimum': 0, 'Tarif journalier HT souhaité - Maximum': 0, 'Contrat': nan, 'Responsable manager': 'CLERC Quentin', 'Responsable RH': 'CLERC Quentin', 'Pôle': nan, 'Agence': 'ADDIXWARE Aix', 'Date de création': '14/12/2023 13:51', 'Date de mise à jour': '23/01/2024 10:30', 'Commentaires (informations)': 'en process', 'Langues': 'français (),Anglais ()', 'Diplômes': \"2017 - Formation IT Manager - Expert en système d'information - ECOLE IPSSI,2016 - Titre RNCP niveau II, équivalent bac+4 - ECOLE IPSSI,2012 - Licence ATC CLGO design du web - IUT TOULON VAR,2011 - DUT Services et réseaux de communication - IUT TOULON VAR\", 'Secteurs': nan, 'Ressource - Référence interne': nan, 'Nombre de CV': 2, 'Étape - motif': nan, 'Motif - Commentaire': nan}\n",
    "# {'Référence interne': 'CAND9241', 'Civilité': 'M.', 'Nom': 'KOWAL', 'Prénom': 'Anita', 'Type': 'Non défini', 'Titre': 'CV envoyé par HelloWork. Contient des données personnelles : ne pas utiliser, diffuser, copier sans le consentement de son auteur.Data manager senio', 'Compétences': nan, \"Domaines d'application\": nan, 'Formation': nan, 'Expérience': nan, 'Disponibilité': nan, 'Outils': nan, 'Mobilité': nan, 'Étape': 'A qualifier', 'Evaluation globale': nan, 'Provenance - Type': nan, 'Provenance - Détail': nan, 'Email 1': 'anita.kowal@gmail.com', 'Email 2': nan, 'Email 3': nan, 'Téléphone 1': '0662985775', 'Téléphone 2': nan, 'Téléphone 3': nan, 'Date de naissance': nan, 'Nationalité': 'Française', 'Situation familiale': 'Célibataire', 'Nombre de positionnements actif': 0, 'Adresse': '279 Chemin des Ames du Purgatoire', 'Code Postal': '06600', 'Ville': 'Antibes', 'Pays': 'France', 'Devise': 'EUR Euro', 'Salaire actuel': 0, 'Salaire brut souhaité (fourchette) - Minimum': 0, 'Salaire brut souhaité (fourchette) - Maximum': 0, 'Tarif journalier HT actuel': 0, 'Tarif journalier HT souhaité - Minimum': 0, 'Tarif journalier HT souhaité - Maximum': 0, 'Contrat': nan, 'Responsable manager': 'GARIBALDI Loïc', 'Responsable RH': 'GARIBALDI Loïc', 'Pôle': nan, 'Agence': 'ADDIXWARE Sophia', 'Date de création': '17/01/2024 10:29', 'Date de mise à jour': '23/01/2024 10:29', 'Commentaires (informations)': nan, 'Langues': 'français (),Anglais (),polonais ()', 'Diplômes': '2023 - Academy E-Learning,2022 - Formation SQL Server 2012,2020 - Inserm Paris,2019 - MS Formation,2018 - MOOC Paris', 'Secteurs': nan, 'Ressource - Référence interne': nan, 'Nombre de CV': 1, 'Étape - motif': nan, 'Motif - Commentaire': nan}\n",
    "# {'Référence interne': 'CAND5964', 'Civilité': 'M.', 'Nom': 'SEGHETTINI', 'Prénom': 'Romain', 'Type': 'Non défini', 'Titre': 'Admin sys Technicien support informtique', 'Compétences': 'Gestion, SSIS, Vue', \"Domaines d'application\": nan, 'Formation': nan, 'Expérience': nan, 'Disponibilité': nan, 'Outils': nan, 'Mobilité': nan, 'Étape': 'A qualifier', 'Evaluation globale': nan, 'Provenance - Type': 'Turnover', 'Provenance - Détail': nan, 'Email 1': 'rseghettini@hotmail.fr', 'Email 2': nan, 'Email 3': nan, 'Téléphone 1': '07 81 27 16 31', 'Téléphone 2': nan, 'Téléphone 3': 'MAJ 2023-03-23 - JB', 'Date de naissance': nan, 'Nationalité': 'Française', 'Situation familiale': 'Célibataire', 'Nombre de positionnements actif': 0, 'Adresse': '20 rue Paul Bounin Permis B', 'Code Postal': '06100', 'Ville': 'Nice', 'Pays': 'France', 'Devise': 'EUR Euro', 'Salaire actuel': 0, 'Salaire brut souhaité (fourchette) - Minimum': 0, 'Salaire brut souhaité (fourchette) - Maximum': 0, 'Tarif journalier HT actuel': 0, 'Tarif journalier HT souhaité - Minimum': 0, 'Tarif journalier HT souhaité - Maximum': 0, 'Contrat': nan, 'Responsable manager': 'GARIBALDI Loïc', 'Responsable RH': 'HAOUAM Yassine', 'Pôle': nan, 'Agence': 'ADDIXWARE Sophia', 'Date de création': '24/01/2022 18:38', 'Date de mise à jour': '23/01/2024 10:03', 'Commentaires (informations)': \"Mobi: 06 (Habite nice)\\nDispo: ASAP\\nprix: CDI 30 a 35k, actuellement a 32k\\n\\nAnglais: pas bon à l'oral, écrit ok\\nAllemand: non\\n\\npistes: une piste\", 'Langues': nan, 'Diplômes': '2013 - BTS - Niveau - not provided,2008 - Baccalauréat - Développeur Web Electrotechnique Energie Equipements Communicants - Lycée Jacques Dolle', 'Secteurs': nan, 'Ressource - Référence interne': nan, 'Nombre de CV': 4, 'Étape - motif': nan, 'Motif - Commentaire': nan}\n",
    "# {'Référence interne': 'CAND9269', 'Civilité': 'Mme.', 'Nom': 'DYHIA SI', 'Prénom': 'HAMDI', 'Type': 'Non défini', 'Titre': 'Ingenieur BI', 'Compétences': nan, \"Domaines d'application\": nan, 'Formation': nan, 'Expérience': nan, 'Disponibilité': nan, 'Outils': nan, 'Mobilité': nan, 'Étape': 'A qualifier', 'Evaluation globale': nan, 'Provenance - Type': 'Turnover', 'Provenance - Détail': nan, 'Email 1': 'dyhia.sihamdi@gmail.com', 'Email 2': nan, 'Email 3': nan, 'Téléphone 1': '07 82 79 24 68', 'Téléphone 2': nan, 'Téléphone 3': nan, 'Date de naissance': '23/01/2024', 'Nationalité': 'Française', 'Situation familiale': 'Célibataire', 'Nombre de positionnements actif': 0, 'Adresse': nan, 'Code Postal': nan, 'Ville': nan, 'Pays': 'France', 'Devise': 'EUR Euro', 'Salaire actuel': 0, 'Salaire brut souhaité (fourchette) - Minimum': 0, 'Salaire brut souhaité (fourchette) - Maximum': 0, 'Tarif journalier HT actuel': 0, 'Tarif journalier HT souhaité - Minimum': 0, 'Tarif journalier HT souhaité - Maximum': 0, 'Contrat': nan, 'Responsable manager': 'LAGUEL Jérôme', 'Responsable RH': 'LAGUEL Jérôme', 'Pôle': nan, 'Agence': 'ADDIXWARE Sophia', 'Date de création': '23/01/2024 09:45', 'Date de mise à jour': '23/01/2024 09:46', 'Commentaires (informations)': nan, 'Langues': 'français (),Anglais ()', 'Diplômes': 'Diplôme d?ingénieur, système d?information et business intelligence - ecole d?ingénieur cnam', 'Secteurs': nan, 'Ressource - Référence interne': nan, 'Nombre de CV': 1, 'Étape - motif': nan, 'Motif - Commentaire': nan}\n",
    "# {'Référence interne': 'CAND9256', 'Civilité': 'M.', 'Nom': 'PATHE', 'Prénom': 'ELHADJ', 'Type': 'Non défini', 'Titre': 'admin système', 'Compétences': nan, \"Domaines d'application\": nan, 'Formation': nan, 'Expérience': nan, 'Disponibilité': nan, 'Outils': nan, 'Mobilité': nan, 'Étape': 'A qualifier', 'Evaluation globale': nan, 'Provenance - Type': nan, 'Provenance - Détail': nan, 'Email 1': 'elhpathe1992@gmail.com', 'Email 2': nan, 'Email 3': nan, 'Téléphone 1': '+33605859321', 'Téléphone 2': nan, 'Téléphone 3': nan, 'Date de naissance': nan, 'Nationalité': 'Française', 'Situation familiale': 'Célibataire', 'Nombre de positionnements actif': 1, 'Adresse': nan, 'Code Postal': '69120', 'Ville': 'Vaulx-en-Velin', 'Pays': 'France', 'Devise': 'EUR Euro', 'Salaire actuel': 0, 'Salaire brut souhaité (fourchette) - Minimum': 0, 'Salaire brut souhaité (fourchette) - Maximum': 0, 'Tarif journalier HT actuel': 0, 'Tarif journalier HT souhaité - Minimum': 0, 'Tarif journalier HT souhaité - Maximum': 0, 'Contrat': nan, 'Responsable manager': 'BOUFFIL Olivier', 'Responsable RH': 'BOUFFIL Olivier', 'Pôle': nan, 'Agence': 'ADDIXWARE Aix', 'Date de création': '18/01/2024 18:06', 'Date de mise à jour': '23/01/2024 09:35', 'Commentaires (informations)': nan, 'Langues': 'français (),Anglais ()', 'Diplômes': \"2020 - Master 2 systèmes informatiques communicants - Université d'avignon et des pays du vaucluse,2018 - Licence en informatique - Université d'avignon et des pays de vaucluse,2016 - Licence en télécommunications et réseaux - Ecole supérieure de technologies et de management\", 'Secteurs': nan, 'Ressource - Référence interne': nan, 'Nombre de CV': 2, 'Étape - motif': nan, 'Motif - Commentaire': nan}\n",
    "\n",
    "## DF2:\n",
    "\n",
    "# {'Prestation / Groupement - Référence interne': 'MIS1153', 'Prestation - Ressource / Produit - Référence interne': 'COMP9239', 'Prestation - Ressource / Produit - Nom': 'PERROT', 'Prestation - Ressource - Prénom': 'Marc', 'Prestation / Groupement - Début': '06/02/2024', 'Prestation / Groupement - Fin': '31/12/2024', 'Prestation / Groupement - Titre': nan, 'Prestation / Groupement - Projet - Référence': 'Leader technique Back-end', 'Prestation / Groupement - Projet - Type': 'Assistance Technique', 'Prestation - État': 'Signée', 'Prestation / Groupement - Projet - Besoin - Titre': 'Lead dev c#', 'Prestation / Groupement - Projet - Contact - Nom': 'PARIS', 'Prestation / Groupement - Projet - Contact - Prénom': 'Guillaume', 'Prestation / Groupement - Projet - Société - Nom': 'RICHARDSON', 'Prestation / Groupement - Projet - Devise': 'EUR Euro', 'Prestation / Groupement - Tarif de vente journalier HT / Tarif projet journalier HT / Tarif de vente HT / Tarif de vente journalier HT / Tarif projet journalier HT': 630.0, 'Prestation - CJM Prestation': 530.0, \"Prestation / Groupement - Chiffre d'affaire HT\": 132300.0, 'Prestation / Groupement - Marge HT': 21000.0, 'Prestation / Groupement - Rentabilité': '15,87%', 'Prestation / Groupement - Projet - Code postal': '13002', 'Prestation / Groupement - Projet - Ville': 'MARSEILLE', 'Prestation / Groupement - Projet - Adresse': '2 PLACE GANTES', 'Prestation / Groupement - Projet - Pays': 'France', 'Prestation / Groupement - Projet - Responsable manager': 'BOUFFIL Olivier', 'Prestation / Groupement - Projet - Pôle': nan, 'Prestation / Groupement - Projet - Agence': 'ADDIXDATA', 'Prestation - Ressource / Produit - Responsable manager': 'BOUFFIL Olivier', 'Prestation - Ressource - Responsable RH': 'BOUFFIL Olivier', 'Prestation / Groupement - Nombre de jours vendus / Charge / Quantité / Charge': 210.0, 'Prestation - Nombre de jours gratuits': 0.0, \"Prestation - Taux d'occupation\": '92,11%', 'Prestation / Groupement - Description': nan, 'Prestation - Conditions particulières': nan, 'Prestation - Ressource / Produit - Type': 'Consultant Externe', 'Prestation / Groupement - Projet - Société - Secteur': nan, \"Prestation / Groupement - Projet - Besoin - Domaines d'application\": nan, 'Prestation / Groupement - Projet - Besoin - Outils': nan, 'Prestation / Groupement - Projet - Besoin - Référence interne': 'AO1846', 'Prestation / Groupement - Projet - Référence interne': 'PRJ493', 'Prestation - Cession': 'Prestation', 'Prestation - Type': 'New'}\n",
    "# {'Prestation / Groupement - Référence interne': 'MIS1106', 'Prestation - Ressource / Produit - Référence interne': 'COMP8888', 'Prestation - Ressource / Produit - Nom': 'HACKMOSPHÈRE', 'Prestation - Ressource - Prénom': 'Florian ECARD', 'Prestation / Groupement - Début': '29/01/2024', 'Prestation / Groupement - Fin': '08/02/2024', 'Prestation / Groupement - Titre': 'Pentest', 'Prestation / Groupement - Projet - Référence': 'PRJ477', 'Prestation / Groupement - Projet - Type': 'Forfait', 'Prestation - État': 'Signée', 'Prestation / Groupement - Projet - Besoin - Titre': 'Pentest', 'Prestation / Groupement - Projet - Contact - Nom': 'Bruce', 'Prestation / Groupement - Projet - Contact - Prénom': 'GONZALVEZ', 'Prestation / Groupement - Projet - Société - Nom': 'B Network', 'Prestation / Groupement - Projet - Devise': 'EUR Euro', 'Prestation / Groupement - Tarif de vente journalier HT / Tarif projet journalier HT / Tarif de vente HT / Tarif de vente journalier HT / Tarif projet journalier HT': 875.0, 'Prestation - CJM Prestation': 700.0, \"Prestation / Groupement - Chiffre d'affaire HT\": 12250.0, 'Prestation / Groupement - Marge HT': 2450.0, 'Prestation / Groupement - Rentabilité': '20,00%', 'Prestation / Groupement - Projet - Code postal': nan, 'Prestation / Groupement - Projet - Ville': nan, 'Prestation / Groupement - Projet - Adresse': nan, 'Prestation / Groupement - Projet - Pays': 'France', 'Prestation / Groupement - Projet - Responsable manager': 'CAGNA (SARRAZIT) Charline', 'Prestation / Groupement - Projet - Pôle': nan, 'Prestation / Groupement - Projet - Agence': 'ADDIXWARE Sophia', 'Prestation - Ressource / Produit - Responsable manager': 'SURCIN Julien', 'Prestation - Ressource - Responsable RH': 'SURCIN Julien', 'Prestation / Groupement - Nombre de jours vendus / Charge / Quantité / Charge': 14.0, 'Prestation - Nombre de jours gratuits': 0.0, \"Prestation - Taux d'occupation\": '155,56%', 'Prestation / Groupement - Description': nan, 'Prestation - Conditions particulières': nan, 'Prestation - Ressource / Produit - Type': 'Consultant Externe', 'Prestation / Groupement - Projet - Société - Secteur': 'Services', \"Prestation / Groupement - Projet - Besoin - Domaines d'application\": nan, 'Prestation / Groupement - Projet - Besoin - Outils': nan, 'Prestation / Groupement - Projet - Besoin - Référence interne': 'AO1815', 'Prestation / Groupement - Projet - Référence interne': 'PRJ477', 'Prestation - Cession': 'Prestation', 'Prestation - Type': 'New'}\n",
    "# {'Prestation / Groupement - Référence interne': 'MIS1151', 'Prestation - Ressource / Produit - Référence interne': 'COMP9170', 'Prestation - Ressource / Produit - Nom': 'ZHAO', 'Prestation - Ressource - Prénom': 'Wanying', 'Prestation / Groupement - Début': '23/01/2024', 'Prestation / Groupement - Fin': '31/12/2024', 'Prestation / Groupement - Titre': nan, 'Prestation / Groupement - Projet - Référence': 'Data Analyste', 'Prestation / Groupement - Projet - Type': 'Assistance Technique', 'Prestation - État': 'Signée', 'Prestation / Groupement - Projet - Besoin - Titre': 'ingénieur data ETL', 'Prestation / Groupement - Projet - Contact - Nom': 'PARIS', 'Prestation / Groupement - Projet - Contact - Prénom': 'Guillaume', 'Prestation / Groupement - Projet - Société - Nom': 'RICHARDSON', 'Prestation / Groupement - Projet - Devise': 'EUR Euro', 'Prestation / Groupement - Tarif de vente journalier HT / Tarif projet journalier HT / Tarif de vente HT / Tarif de vente journalier HT / Tarif projet journalier HT': 500.0, 'Prestation - CJM Prestation': 323.81, \"Prestation / Groupement - Chiffre d'affaire HT\": 105000.0, 'Prestation / Groupement - Marge HT': 37000.0, 'Prestation / Groupement - Rentabilité': '35,24%', 'Prestation / Groupement - Projet - Code postal': '13002', 'Prestation / Groupement - Projet - Ville': 'MARSEILLE', 'Prestation / Groupement - Projet - Adresse': '2 PLACE GANTES', 'Prestation / Groupement - Projet - Pays': 'France', 'Prestation / Groupement - Projet - Responsable manager': 'BOUFFIL Olivier', 'Prestation / Groupement - Projet - Pôle': nan, 'Prestation / Groupement - Projet - Agence': 'ADDIXDATA', 'Prestation - Ressource / Produit - Responsable manager': 'BOUFFIL Olivier', 'Prestation - Ressource - Responsable RH': 'BOUFFIL Olivier', 'Prestation / Groupement - Nombre de jours vendus / Charge / Quantité / Charge': 210.0, 'Prestation - Nombre de jours gratuits': 0.0, \"Prestation - Taux d'occupation\": '88,24%', 'Prestation / Groupement - Description': nan, 'Prestation - Conditions particulières': nan, 'Prestation - Ressource / Produit - Type': 'Consultant Interne', 'Prestation / Groupement - Projet - Société - Secteur': nan, \"Prestation / Groupement - Projet - Besoin - Domaines d'application\": nan, 'Prestation / Groupement - Projet - Besoin - Outils': nan, 'Prestation / Groupement - Projet - Besoin - Référence interne': 'AO1850', 'Prestation / Groupement - Projet - Référence interne': 'PRJ491', 'Prestation - Cession': 'Prestation', 'Prestation - Type': 'New'}\n",
    "# {'Prestation / Groupement - Référence interne': 'MIS1154', 'Prestation - Ressource / Produit - Référence interne': 'COMP8888', 'Prestation - Ressource / Produit - Nom': 'HACKMOSPHÈRE', 'Prestation - Ressource - Prénom': 'Florian ECARD', 'Prestation / Groupement - Début': '18/01/2024', 'Prestation / Groupement - Fin': '19/01/2024', 'Prestation / Groupement - Titre': 'Retest des vulnérabilités identifiées', 'Prestation / Groupement - Projet - Référence': 'PRJ480', 'Prestation / Groupement - Projet - Type': 'Forfait', 'Prestation - État': 'Signée', 'Prestation / Groupement - Projet - Besoin - Titre': 'PENTEST', 'Prestation / Groupement - Projet - Contact - Nom': 'Ouziel', 'Prestation / Groupement - Projet - Contact - Prénom': 'Ariel', 'Prestation / Groupement - Projet - Société - Nom': 'Dixio', 'Prestation / Groupement - Projet - Devise': 'EUR Euro', 'Prestation / Groupement - Tarif de vente journalier HT / Tarif projet journalier HT / Tarif de vente HT / Tarif de vente journalier HT / Tarif projet journalier HT': 900.0, 'Prestation - CJM Prestation': 700.0, \"Prestation / Groupement - Chiffre d'affaire HT\": 900.0, 'Prestation / Groupement - Marge HT': 200.0, 'Prestation / Groupement - Rentabilité': '22,22%', 'Prestation / Groupement - Projet - Code postal': nan, 'Prestation / Groupement - Projet - Ville': nan, 'Prestation / Groupement - Projet - Adresse': nan, 'Prestation / Groupement - Projet - Pays': 'France', 'Prestation / Groupement - Projet - Responsable manager': 'CAGNA (SARRAZIT) Charline', 'Prestation / Groupement - Projet - Pôle': nan, 'Prestation / Groupement - Projet - Agence': 'ADDIXWARE Sophia', 'Prestation - Ressource / Produit - Responsable manager': 'SURCIN Julien', 'Prestation - Ressource - Responsable RH': 'SURCIN Julien', 'Prestation / Groupement - Nombre de jours vendus / Charge / Quantité / Charge': 1.0, 'Prestation - Nombre de jours gratuits': 0.0, \"Prestation - Taux d'occupation\": '50,00%', 'Prestation / Groupement - Description': nan, 'Prestation - Conditions particulières': nan, 'Prestation - Ressource / Produit - Type': 'Consultant Externe', 'Prestation / Groupement - Projet - Société - Secteur': nan, \"Prestation / Groupement - Projet - Besoin - Domaines d'application\": nan, 'Prestation / Groupement - Projet - Besoin - Outils': nan, 'Prestation / Groupement - Projet - Besoin - Référence interne': 'AO1817', 'Prestation / Groupement - Projet - Référence interne': 'PRJ480', 'Prestation - Cession': 'Prestation', 'Prestation - Type': 'Renfort'}\n",
    "# {'Prestation / Groupement - Référence interne': 'MIS1152', 'Prestation - Ressource / Produit - Référence interne': 'COMP1325', 'Prestation - Ressource / Produit - Nom': 'LOPES ZUGNO', 'Prestation - Ressource - Prénom': 'Mauricio', 'Prestation / Groupement - Début': '16/01/2024', 'Prestation / Groupement - Fin': '16/01/2024', 'Prestation / Groupement - Titre': nan, 'Prestation / Groupement - Projet - Référence': 'PRJ492', 'Prestation / Groupement - Projet - Type': 'Assistance Technique', 'Prestation - État': 'Signée', 'Prestation / Groupement - Projet - Besoin - Titre': 'Développeur Front End', 'Prestation / Groupement - Projet - Contact - Nom': 'Le Blanc de Cernex', 'Prestation / Groupement - Projet - Contact - Prénom': 'Bernard', 'Prestation / Groupement - Projet - Société - Nom': 'Sales Scan', 'Prestation / Groupement - Projet - Devise': 'EUR Euro', 'Prestation / Groupement - Tarif de vente journalier HT / Tarif projet journalier HT / Tarif de vente HT / Tarif de vente journalier HT / Tarif projet journalier HT': 0.0, 'Prestation - CJM Prestation': 315.72, \"Prestation / Groupement - Chiffre d'affaire HT\": 0.0, 'Prestation / Groupement - Marge HT': 0.0, 'Prestation / Groupement - Rentabilité': '0,00%', 'Prestation / Groupement - Projet - Code postal': '78100', 'Prestation / Groupement - Projet - Ville': 'Saint Germain en Laye', 'Prestation / Groupement - Projet - Adresse': '30 bis Rue du Vieil Abreuvoir', 'Prestation / Groupement - Projet - Pays': 'France', 'Prestation / Groupement - Projet - Responsable manager': 'HENRY Erwan', 'Prestation / Groupement - Projet - Pôle': nan, 'Prestation / Groupement - Projet - Agence': 'ADDIXWARE Sophia', 'Prestation - Ressource / Produit - Responsable manager': 'GARIBALDI Loïc', 'Prestation - Ressource - Responsable RH': 'GARIBALDI Loïc', 'Prestation / Groupement - Nombre de jours vendus / Charge / Quantité / Charge': 0.0, 'Prestation - Nombre de jours gratuits': 0.0, \"Prestation - Taux d'occupation\": '0,00%', 'Prestation / Groupement - Description': nan, 'Prestation - Conditions particulières': nan, 'Prestation - Ressource / Produit - Type': 'Consultant Interne', 'Prestation / Groupement - Projet - Société - Secteur': nan, \"Prestation / Groupement - Projet - Besoin - Domaines d'application\": nan, 'Prestation / Groupement - Projet - Besoin - Outils': nan, 'Prestation / Groupement - Projet - Besoin - Référence interne': 'AO1853', 'Prestation / Groupement - Projet - Référence interne': 'PRJ492', 'Prestation - Cession': 'Prestation', 'Prestation - Type': 'New'}\n",
    "        \n",
    "## DF3:\n",
    "\n",
    "# {'Référence interne': 'PRJ493', 'Début': '06/02/2024', 'Fin': '31/12/2024', 'Référence': 'Leader technique Back-end', 'Type': 'Assistance Technique', 'État': 'En cours', 'Besoin - Titre': 'Lead dev c#', 'Contact - Nom': 'PARIS', 'Contact - Prénom': 'Guillaume', 'Société - Nom': 'RICHARDSON', 'Devise': 'EUR Euro', 'CA HT': 132300.0, 'Marge HT': 21000.0, 'Rentabilité': '15,87%', 'Code postal': '13002', 'Ville': 'MARSEILLE', 'Responsable manager': 'BOUFFIL Olivier', 'Pôle': nan, 'Agence': 'ADDIXDATA', 'Date de création': '16/01/2024 15:40', 'Date de mise à jour': '16/01/2024 15:44', 'Commentaires': nan, 'Besoin - Référence interne': 'AO1846', 'Adresse': '2 PLACE GANTES', 'Pays': 'France', 'Société - Secteur': nan, \"Besoin - Domaines d'application\": nan, 'Besoin - Outils': nan, 'Taux de change': 1.0, 'Taux de change agence': 1.0, 'Etat - motif': nan, 'Motif - Commentaire': nan}\n",
    "# {'Référence interne': 'PRJ492', 'Début': '16/01/2024', 'Fin': '16/01/2024', 'Référence': 'PRJ492', 'Type': 'Assistance Technique', 'État': 'En cours', 'Besoin - Titre': 'Développeur Front End', 'Contact - Nom': 'Le Blanc de Cernex', 'Contact - Prénom': 'Bernard', 'Société - Nom': 'Sales Scan', 'Devise': 'EUR Euro', 'CA HT': 0.0, 'Marge HT': 0.0, 'Rentabilité': '0,00%', 'Code postal': '78100', 'Ville': 'Saint Germain en Laye', 'Responsable manager': 'HENRY Erwan', 'Pôle': nan, 'Agence': 'ADDIXWARE Sophia', 'Date de création': '16/01/2024 11:57', 'Date de mise à jour': '16/01/2024 11:57', 'Commentaires': nan, 'Besoin - Référence interne': 'AO1853', 'Adresse': '30 bis Rue du Vieil Abreuvoir', 'Pays': 'France', 'Société - Secteur': nan, \"Besoin - Domaines d'application\": nan, 'Besoin - Outils': nan, 'Taux de change': 1.0, 'Taux de change agence': 1.0, 'Etat - motif': nan, 'Motif - Commentaire': nan}\n",
    "# {'Référence interne': 'PRJ491', 'Début': '23/01/2024', 'Fin': '31/12/2024', 'Référence': 'Data Analyste', 'Type': 'Assistance Technique', 'État': 'En cours', 'Besoin - Titre': 'ingénieur data ETL', 'Contact - Nom': 'PARIS', 'Contact - Prénom': 'Guillaume', 'Société - Nom': 'RICHARDSON', 'Devise': 'EUR Euro', 'CA HT': 105000.0, 'Marge HT': 37000.0, 'Rentabilité': '35,24%', 'Code postal': '13002', 'Ville': 'MARSEILLE', 'Responsable manager': 'BOUFFIL Olivier', 'Pôle': nan, 'Agence': 'ADDIXDATA', 'Date de création': '22/12/2023 11:15', 'Date de mise à jour': '15/01/2024 15:44', 'Commentaires': nan, 'Besoin - Référence interne': 'AO1850', 'Adresse': '2 PLACE GANTES', 'Pays': 'France', 'Société - Secteur': nan, \"Besoin - Domaines d'application\": nan, 'Besoin - Outils': nan, 'Taux de change': 1.0, 'Taux de change agence': 1.0, 'Etat - motif': nan, 'Motif - Commentaire': nan}\n",
    "# {'Référence interne': 'PRJ490', 'Début': '08/01/2024', 'Fin': '31/12/2024', 'Référence': 'PRJ490', 'Type': 'Assistance Technique', 'État': 'En cours', 'Besoin - Titre': 'Administrateur système réseaux', 'Contact - Nom': 'JALLIFFIER', 'Contact - Prénom': 'Fabien', 'Société - Nom': 'SOS OXYGENE PARTICIPATIONS', 'Devise': 'EUR Euro', 'CA HT': 87150.0, 'Marge HT': 24150.0, 'Rentabilité': '27,71%', 'Code postal': '06200', 'Ville': 'NICE', 'Responsable manager': 'SURCIN Julien', 'Pôle': nan, 'Agence': 'ADDIXWARE Sophia', 'Date de création': '21/12/2023 16:31', 'Date de mise à jour': '21/12/2023 16:31', 'Commentaires': nan, 'Besoin - Référence interne': 'AO1842', 'Adresse': '4 Chemin de la glacière', 'Pays': 'France', 'Société - Secteur': nan, \"Besoin - Domaines d'application\": nan, 'Besoin - Outils': nan, 'Taux de change': 1.0, 'Taux de change agence': 1.0, 'Etat - motif': nan, 'Motif - Commentaire': nan}\n",
    "# {'Référence interne': 'PRJ489', 'Début': '08/01/2024', 'Fin': '08/10/2024', 'Référence': 'PRJ489', 'Type': 'Assistance Technique', 'État': 'En cours', 'Besoin - Titre': 'Administrateur système réseaux', 'Contact - Nom': 'JALLIFFIER', 'Contact - Prénom': 'Fabien', 'Société - Nom': 'SOS OXYGENE PARTICIPATIONS', 'Devise': 'EUR Euro', 'CA HT': 78310.0, 'Marge HT': 21010.0, 'Rentabilité': '26,83%', 'Code postal': '06200', 'Ville': 'NICE', 'Responsable manager': 'SURCIN Julien', 'Pôle': nan, 'Agence': 'ADDIXWARE Sophia', 'Date de création': '21/12/2023 16:27', 'Date de mise à jour': '21/12/2023 16:28', 'Commentaires': nan, 'Besoin - Référence interne': 'AO1842', 'Adresse': '4 Chemin de la glacière', 'Pays': 'France', 'Société - Secteur': nan, \"Besoin - Domaines d'application\": nan, 'Besoin - Outils': nan, 'Taux de change': 1.0, 'Taux de change agence': 1.0, 'Etat - motif': nan, 'Motif - Commentaire': nan}\n",
    "\n",
    "## DF4:\n",
    "\n",
    "# {'Référence interne': 'COMP5094', 'Matricule': 'CSA', 'Civilité': 'Mme.', 'Nom': 'CAGNA (SARRAZIT)', 'Prénom': 'Charline', 'Type': 'Office Manager', 'État': 'En cours', 'Titre': 'Responsable administrative / Office Manager', 'Compétences': nan, \"Domaine d'application\": nan, 'Formation': nan, 'Expérience': nan, 'Disponibilité': nan, 'Devise': 'EUR Euro', 'Tarif HT': 0.0, 'Mobilité': nan, 'Email 1': 'charline@addixgroup.fr', 'Email 2': 'charlinecagna@gmail.com', 'Email 3': \"Contact en cas d'urgence : (Mari) Cedric CAGNA: 06 21 51 15 32\", 'Téléphone 1': '06 28 40 07 89', 'Téléphone 2': nan, 'Téléphone 3': nan, 'Date de naissance': '17/11/1991', 'Nationalité': 'Française', 'Situation familiale': 'PACS', 'Numéro de sécurité sociale': '2 91 11 76 451 364 41', 'Pos. actif': 0, 'Adresse': '4 impasse des Arbousiers', 'Code Postal': '83440', 'Ville': 'Montauroux', 'Pays': 'France', 'Responsable manager': 'ALBA Florent', 'Responsable RH': 'CAGNA (SARRAZIT) Charline', 'Pôle': nan, 'Agence': 'ADDIXWARE Sophia', 'Date de création': '07/06/2021 15:51', 'Date de mise à jour': '22/01/2024 15:31', 'Commentaires (informations)': nan, 'Outils': nan, 'Langues': nan, 'Diplômes': nan, 'Secteurs': nan, 'Candidat - Référence interne': nan, 'Nb CV': 0, 'Date de démarrage': '07/06/2021', 'Ancienneté': '2 ans 7 mois', 'Etat - motif': nan, 'Motif - Commentaire': nan, 'Fonction': 'Responsable administrative / Office manager'}\n",
    "# {'Référence interne': 'COMP4327', 'Matricule': nan, 'Civilité': 'M.', 'Nom': 'CLERC', 'Prénom': 'Quentin', 'Type': \"Ingénieur d'affaires\", 'État': 'En cours', 'Titre': \"Ingénieur d'affaires\", 'Compétences': nan, \"Domaine d'application\": nan, 'Formation': nan, 'Expérience': nan, 'Disponibilité': nan, 'Devise': 'EUR Euro', 'Tarif HT': 0.0, 'Mobilité': nan, 'Email 1': 'quentin@addixgroup.fr', 'Email 2': 'quentin.cpge@gmail.com', 'Email 3': nan, 'Téléphone 1': '0695584357', 'Téléphone 2': '06 95 58 43 57', 'Téléphone 3': nan, 'Date de naissance': '21/04/1999', 'Nationalité': 'Française', 'Situation familiale': 'Célibataire', 'Numéro de sécurité sociale': nan, 'Pos. actif': 0, 'Adresse': '4 avenue du 8 mai, résidence Europe', 'Code Postal': '13090', 'Ville': 'Aix-En-Provence', 'Pays': 'France', 'Responsable manager': 'BOUFFIL Olivier', 'Responsable RH': 'CAGNA (SARRAZIT) Charline', 'Pôle': nan, 'Agence': 'ADDIXWARE Aix', 'Date de création': '23/10/2020 16:32', 'Date de mise à jour': '23/01/2024 10:16', 'Commentaires (informations)': nan, 'Outils': nan, 'Langues': nan, 'Diplômes': nan, 'Secteurs': nan, 'Candidat - Référence interne': nan, 'Nb CV': 0, 'Date de démarrage': '16/11/2020', 'Ancienneté': '3 ans 2 mois', 'Etat - motif': nan, 'Motif - Commentaire': nan, 'Fonction': \"Ingénieur d'affaires\"}\n",
    "# {'Référence interne': 'COMP5788', 'Matricule': 'MPA', 'Civilité': 'M.', 'Nom': 'Palanque', 'Prénom': 'Mickael', 'Type': 'Consultant Interne', 'État': 'Sortie prévue', 'Titre': 'Admin sys', 'Compétences': 'Gestion, Management', \"Domaine d'application\": nan, 'Formation': nan, 'Expérience': nan, 'Disponibilité': '24/01/2024', 'Devise': 'EUR Euro', 'Tarif HT': 350.0, 'Mobilité': nan, 'Email 1': 'm.palanque@addixware.fr', 'Email 2': 'mickael.palanque@gmail.com', 'Email 3': nan, 'Téléphone 1': '0651773227', 'Téléphone 2': '06 51 77 32 27', 'Téléphone 3': 'MAJ 2022-01-03 - JB', 'Date de naissance': '09/05/1994', 'Nationalité': 'Française', 'Situation familiale': 'Célibataire', 'Numéro de sécurité sociale': '1 94 05 97 209 864 27', 'Pos. actif': 0, 'Adresse': '262 avenue de la Capelette Résidence Urban Garden', 'Code Postal': '13010', 'Ville': 'Marseille', 'Pays': 'France', 'Responsable manager': 'BOUFFIL Olivier', 'Responsable RH': 'CAGNA (SARRAZIT) Charline', 'Pôle': nan, 'Agence': 'ADDIXWARE Aix', 'Date de création': '07/01/2022 15:47', 'Date de mise à jour': '22/01/2024 15:24', 'Commentaires (informations)': nan, 'Outils': nan, 'Langues': nan, 'Diplômes': \"Centre de formation de la défense - Lycée Joseph Gaillard,2018 - Baccalauréat - dépanner IIS - not provided,2012 - Certificat - d'information - Ecole de Formation des\", 'Secteurs': nan, 'Candidat - Référence interne': 'CAND5758', 'Nb CV': 2, 'Date de démarrage': '17/01/2022', 'Ancienneté': '2 ans', 'Etat - motif': nan, 'Motif - Commentaire': nan, 'Fonction': \"Ingénieur d'études\"}\n",
    "# {'Référence interne': 'COMP680', 'Matricule': 'JLA', 'Civilité': 'M.', 'Nom': 'LAGUEL', 'Prénom': 'Jérôme', 'Type': \"Ingénieur d'affaires\", 'État': 'En cours', 'Titre': 'Agent Sénior', 'Compétences': nan, \"Domaine d'application\": 'PHP,Développeur', 'Formation': nan, 'Expérience': nan, 'Disponibilité': '01/01/2019', 'Devise': 'EUR Euro', 'Tarif HT': 0.0, 'Mobilité': 'Alpes Maritimes(06)', 'Email 1': 'jerome@addixgroup.fr', 'Email 2': 'jerome.laguel@gmail.com', 'Email 3': \"Contact en cas d'urgence: (Épouse) Sarah LAGUEL : 06 95 45 91 77\", 'Téléphone 1': '0651611587', 'Téléphone 2': '06 51 61 15 87', 'Téléphone 3': nan, 'Date de naissance': '16/03/1981', 'Nationalité': 'Française', 'Situation familiale': 'Marié(e)', 'Numéro de sécurité sociale': '1810376540222', 'Pos. actif': 0, 'Adresse': '245 CHEMIN DU MAGNANON', 'Code Postal': '83440', 'Ville': 'Montauroux', 'Pays': 'France', 'Responsable manager': 'BOUFFIL Olivier', 'Responsable RH': 'CAGNA (SARRAZIT) Charline', 'Pôle': nan, 'Agence': 'ADDIXWARE Sophia', 'Date de création': '26/02/2018 16:30', 'Date de mise à jour': '22/01/2024 15:02', 'Commentaires (informations)': nan, 'Outils': nan, 'Langues': nan, 'Diplômes': 'Formation Développeur logiciel - AFPA du Madrillet', 'Secteurs': nan, 'Candidat - Référence interne': 'CAND572', 'Nb CV': 0, 'Date de démarrage': '23/04/2018', 'Ancienneté': '5 ans 9 mois', 'Etat - motif': nan, 'Motif - Commentaire': nan, 'Fonction': \"Ingénieur d'affaires\"}\n",
    "# {'Référence interne': 'COMP4104', 'Matricule': 'GPO', 'Civilité': 'M.', 'Nom': 'PONS', 'Prénom': 'Gilles', 'Type': 'Consultant Interne', 'État': 'Sortie', 'Titre': 'Développeur FullStack .Net', 'Compétences': nan, \"Domaine d'application\": nan, 'Formation': nan, 'Expérience': nan, 'Disponibilité': '02/12/2023', 'Devise': 'EUR Euro', 'Tarif HT': 500.0, 'Mobilité': nan, 'Email 1': 'gillesponspro@gmail.com', 'Email 2': 'gillesponspro@gmail.com', 'Email 3': 'Contact urgence : (Mère) Corinne PELIEL 06 10 19 00 36; (conjointe) BROCART Laura 07 83 20 06 16', 'Téléphone 1': '0619095921', 'Téléphone 2': '06 19 09 59 21', 'Téléphone 3': nan, 'Date de naissance': '17/06/1991', 'Nationalité': 'Française', 'Situation familiale': 'Célibataire', 'Numéro de sécurité sociale': '1 91 06 06 088 498 47', 'Pos. actif': 2, 'Adresse': '100 avenue Raoul Dufy', 'Code Postal': '06200', 'Ville': 'Nice', 'Pays': 'France', 'Responsable manager': 'LAGUEL Jérôme', 'Responsable RH': 'CAGNA (SARRAZIT) Charline', 'Pôle': nan, 'Agence': 'ADDIXWARE Sophia', 'Date de création': '30/06/2020 10:38', 'Date de mise à jour': '22/01/2024 14:43', 'Commentaires (informations)': nan, 'Outils': nan, 'Langues': nan, 'Diplômes': nan, 'Secteurs': nan, 'Candidat - Référence interne': 'CAND826', 'Nb CV': 4, 'Date de démarrage': '01/07/2020', 'Ancienneté': '3 ans 6 mois', 'Etat - motif': nan, 'Motif - Commentaire': nan, 'Fonction': \"Ingénieur d'études\"}\n",
    "\n"
   ]
  },
  {
   "cell_type": "markdown",
   "metadata": {},
   "source": [
    "## Create a Mapping"
   ]
  },
  {
   "cell_type": "markdown",
   "metadata": {},
   "source": [
    "If some columns appear to have the same semantics (meaning they refer to the same information) but have different column names, we can base our analysis on the column names themselves. For example, \"name,\" \"Name,\" \"FULL NAME,\" and \"first and last name of a person\" could all be referring to the same data. Additionally, we can also base our analysis on the values within the columns or even consider the general context.\n",
    "\n",
    "What we need to do is create mappings similar to the example below, as some columns might be referring to the same type of data (the same 'concept'), and we will use these column pairs as join keys:"
   ]
  },
  {
   "cell_type": "code",
   "execution_count": null,
   "metadata": {},
   "outputs": [],
   "source": [
    "\n",
    "'''\n",
    "{\n",
    "    \"concept\": \"internal_reference\", \n",
    "    \"synonyms\": [\n",
    "        {\"table\": \"df1\", \"column\": \"Référence interne\", \"probability\": 1.0},\n",
    "        {\"table\": \"df2\", \"column\": \"Prestation / Groupement - Référence interne\", \"probability\": 1.0},\n",
    "        {\"table\": \"df2\", \"column\": \"Prestation - Ressource / Produit - Référence interne\", \"probability\": 1.0},\n",
    "        {\"table\": \"df3\", \"column\": \"Référence interne\", \"probability\": 1.0},\n",
    "        {\"table\": \"df4\", \"column\": \"Référence interne\", \"probability\": 1.0}\n",
    "    ]\n",
    "},\n",
    "{\n",
    "    \"concept\": \"name\", \n",
    "    \"synonyms\": [\n",
    "        {\"table\": \"df1\", \"column\": \"Nom\", \"probability\": 1.0},\n",
    "        {\"table\": \"df2\", \"column\": \"Prestation - Ressource / Produit - Nom\", \"probability\": 1.0},\n",
    "        {\"table\": \"df3\", \"column\": \"Contact - Nom\", \"probability\": 1.0},\n",
    "        {\"table\": \"df4\", \"column\": \"Nom\", \"probability\": 1.0}\n",
    "    ]\n",
    "},\n",
    "{\n",
    "    \"concept\": \"first_name\", \n",
    "    \"synonyms\": [\n",
    "        {\"table\": \"df1\", \"column\": \"Prénom\", \"probability\": 1.0},\n",
    "        {\"table\": \"df2\", \"column\": \"Prestation - Ressource - Prénom\", \"probability\": 1.0},\n",
    "        {\"table\": \"df3\", \"column\": \"Contact - Prénom\", \"probability\": 1.0},\n",
    "        {\"table\": \"df4\", \"column\": \"Prénom\", \"probability\": 1.0}\n",
    "    ]\n",
    "},\n",
    "{\n",
    "    \"concept\": \"manager\", \n",
    "    \"synonyms\": [\n",
    "        {\"table\": \"df1\", \"column\": \"Responsable manager\", \"probability\": 1.0},\n",
    "        {\"table\": \"df2\", \"column\": \"Prestation - Ressource / Produit - Responsable manager\", \"probability\": 1.0},\n",
    "        {\"table\": \"df2\", \"column\": \"Prestation / Groupement - Projet - Responsable manager\", \"probability\": 1.0},\n",
    "        {\"table\": \"df3\", \"column\": \"Responsable manager\", \"probability\": 1.0},\n",
    "        {\"table\": \"df4\", \"column\": \"Responsable manager\", \"probability\": 1.0}\n",
    "    ]\n",
    "},\n",
    "{\n",
    "    \"concept\": \"email\", \n",
    "    \"synonyms\": [\n",
    "        {\"table\": \"df1\", \"column\": \"Email 1\", \"probability\": 0.8},\n",
    "        {\"table\": \"df4\", \"column\": \"Email 1\", \"probability\": 0.8}\n",
    "    ]\n",
    "},\n",
    "{\n",
    "    \"concept\": \"phone_number\", \n",
    "    \"synonyms\": [\n",
    "        {\"table\": \"df1\", \"column\": \"Téléphone 1\", \"probability\": 0.8},\n",
    "        {\"table\": \"df4\", \"column\": \"Téléphone 1\", \"probability\": 0.8}\n",
    "    ]\n",
    "},\n",
    "{\n",
    "    \"concept\": \"address\", \n",
    "    \"synonyms\": [\n",
    "        {\"table\": \"df1\", \"column\": \"Adresse\", \"probability\": 1.0},\n",
    "        {\"table\": \"df3\", \"column\": \"Adresse\", \"probability\": 1.0},\n",
    "        {\"table\": \"df4\", \"column\": \"Adresse\", \"probability\": 1.0}\n",
    "    ]\n",
    "},\n",
    "{\n",
    "    \"concept\": \"postal_code\", \n",
    "    \"synonyms\": [\n",
    "        {\"table\": \"df1\", \"column\": \"Code Postal\", \"probability\": 1.0},\n",
    "        {\"table\": \"df3\", \"column\": \"Code postal\", \"probability\": 1.0},\n",
    "        {\"table\": \"df4\", \"column\": \"Code Postal\", \"probability\": 1.0}\n",
    "    ]\n",
    "},\n",
    "{\n",
    "    \"concept\": \"city\", \n",
    "    \"synonyms\": [\n",
    "        {\"table\": \"df1\", \"column\": \"Ville\", \"probability\": 1.0},\n",
    "        {\"table\": \"df3\", \"column\": \"Ville\", \"probability\": 1.0},\n",
    "        {\"table\": \"df4\", \"column\": \"Ville\", \"probability\": 1.0}\n",
    "    ]\n",
    "},\n",
    "{\n",
    "    \"concept\": \"country\", \n",
    "    \"synonyms\": [\n",
    "        {\"table\": \"df1\", \"column\": \"Pays\", \"probability\": 1.0},\n",
    "        {\"table\": \"df3\", \"column\": \"Pays\", \"probability\": 1.0},\n",
    "        {\"table\": \"df4\", \"column\": \"Pays\", \"probability\": 1.0}\n",
    "    ]\n",
    "},\n",
    "{\n",
    "    \"concept\": \"currency\", \n",
    "    \"synonyms\": [\n",
    "        {\"table\": \"df1\", \"column\": \"Devise\", \"probability\": 1.0},\n",
    "        {\"table\": \"df2\", \"column\": \"Prestation / Groupement - Projet - Devise\", \"probability\": 1.0},\n",
    "        {\"table\": \"df3\", \"column\": \"Devise\", \"probability\": 1.0},\n",
    "        {\"table\": \"df4\", \"column\": \"Devise\", \"probability\": 1.0}\n",
    "    ]\n",
    "}\n",
    "'''"
   ]
  },
  {
   "cell_type": "code",
   "execution_count": 42,
   "metadata": {},
   "outputs": [],
   "source": [
    "#TODO : Mapping after doing a bit of RAG"
   ]
  }
 ],
 "metadata": {
  "kernelspec": {
   "display_name": "Python 3",
   "language": "python",
   "name": "python3"
  },
  "language_info": {
   "codemirror_mode": {
    "name": "ipython",
    "version": 3
   },
   "file_extension": ".py",
   "mimetype": "text/x-python",
   "name": "python",
   "nbconvert_exporter": "python",
   "pygments_lexer": "ipython3",
   "version": "3.12.0"
  }
 },
 "nbformat": 4,
 "nbformat_minor": 2
}
