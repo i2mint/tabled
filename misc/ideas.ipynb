{
 "cells": [
  {
   "cell_type": "code",
   "execution_count": 1,
   "id": "33f82d73",
   "metadata": {
    "ExecuteTime": {
     "end_time": "2023-02-02T16:40:47.283344Z",
     "start_time": "2023-02-02T16:40:47.242180Z"
    }
   },
   "outputs": [],
   "source": [
    "%load_ext autoreload\n",
    "%autoreload 2"
   ]
  },
  {
   "cell_type": "code",
   "execution_count": null,
   "id": "cffd8c36",
   "metadata": {},
   "outputs": [],
   "source": []
  },
  {
   "cell_type": "code",
   "execution_count": null,
   "id": "c5b208ea",
   "metadata": {},
   "outputs": [],
   "source": []
  },
  {
   "cell_type": "code",
   "execution_count": null,
   "id": "5bdeb1be",
   "metadata": {},
   "outputs": [],
   "source": []
  },
  {
   "cell_type": "code",
   "execution_count": null,
   "id": "e76bf4a5",
   "metadata": {},
   "outputs": [],
   "source": []
  },
  {
   "cell_type": "code",
   "execution_count": null,
   "id": "839119bf",
   "metadata": {},
   "outputs": [],
   "source": []
  },
  {
   "cell_type": "markdown",
   "id": "bc323b3e",
   "metadata": {},
   "source": [
    "# Proposal: tiny light framework for routing with mappings"
   ]
  },
  {
   "cell_type": "code",
   "execution_count": 6,
   "id": "088059ce",
   "metadata": {
    "ExecuteTime": {
     "end_time": "2023-02-02T16:51:09.512171Z",
     "start_time": "2023-02-02T16:51:09.489927Z"
    }
   },
   "outputs": [],
   "source": [
    "from typing import Callable\n",
    "from dol import wrap_kvs\n",
    "from tabled import dflt_ext_mapping, get_ext, identity, get_protocol\n",
    "from graze import graze\n",
    "\n",
    "def mk_key_func_reader(key: Callable = identity, mapping=None):\n",
    "    return wrap_kvs(mapping or {}, id_of_key=key)\n",
    "\n",
    "\n",
    "# Let's make two readers: One that uses the extension as it's key, and the other the protocol of a url\n",
    "\n",
    "ext = mk_key_func_reader(get_ext, dflt_ext_mapping)\n",
    "\n",
    "protocol = mk_key_func_reader(get_protocol, {\n",
    "    'list': lambda x: x.decode().splitlines(), \n",
    "    'csv_list': lambda x: map(lambda line: line.split(','), x.decode().splitlines())\n",
    "})\n"
   ]
  },
  {
   "cell_type": "code",
   "execution_count": 9,
   "id": "deaa476a",
   "metadata": {
    "ExecuteTime": {
     "end_time": "2023-02-02T16:51:38.566782Z",
     "start_time": "2023-02-02T16:51:38.541437Z"
    }
   },
   "outputs": [
    {
     "data": {
      "text/plain": [
       "{'xls': functools.partial(<function read_excel at 0x11f48f910>, index=False),\n",
       " 'xlsx': functools.partial(<function read_excel at 0x11f48f910>, index=False),\n",
       " 'csv': functools.partial(<function read_csv at 0x11f48e7a0>, index_col=False),\n",
       " 'tsv': functools.partial(<function read_csv at 0x11f48e7a0>, sep='\\t', index_col=False),\n",
       " 'json': functools.partial(<function read_json at 0x11f865090>, orient='records'),\n",
       " 'html': functools.partial(<function read_html at 0x11f8335b0>, index_col=False),\n",
       " 'p': <function _pickle.load(file, *, fix_imports=True, encoding='ASCII', errors='strict', buffers=())>,\n",
       " 'pickle': <function _pickle.load(file, *, fix_imports=True, encoding='ASCII', errors='strict', buffers=())>}"
      ]
     },
     "execution_count": 9,
     "metadata": {},
     "output_type": "execute_result"
    }
   ],
   "source": [
    "dflt_ext_mapping"
   ]
  },
  {
   "cell_type": "code",
   "execution_count": 11,
   "id": "82ae1c9b",
   "metadata": {
    "ExecuteTime": {
     "end_time": "2023-02-02T16:52:28.681606Z",
     "start_time": "2023-02-02T16:52:28.652992Z"
    }
   },
   "outputs": [
    {
     "data": {
      "text/plain": [
       "functools.partial(<function read_excel at 0x11f48f910>, index=False)"
      ]
     },
     "execution_count": 11,
     "metadata": {},
     "output_type": "execute_result"
    }
   ],
   "source": [
    "ext.get('asdf.xls')"
   ]
  },
  {
   "cell_type": "code",
   "execution_count": 47,
   "id": "f128f721",
   "metadata": {
    "ExecuteTime": {
     "end_time": "2023-02-02T16:33:35.732048Z",
     "start_time": "2023-02-02T16:33:35.716262Z"
    }
   },
   "outputs": [],
   "source": [
    "assert 'blah.xls' in ext"
   ]
  },
  {
   "cell_type": "markdown",
   "id": "62556117",
   "metadata": {},
   "source": [
    "But the part that's ugly, and perhaps we should do something about it: There's only a one way key transformation, so anything ending with `.xls` is a key, but not `xls` itself. \n",
    "Also, probably worse; you can't use `.items()` or `dict(...)` and such, since this requires two-way BIJECTIVE key transformation."
   ]
  },
  {
   "cell_type": "code",
   "execution_count": 15,
   "id": "74ee361b",
   "metadata": {
    "ExecuteTime": {
     "end_time": "2023-02-02T16:55:57.888476Z",
     "start_time": "2023-02-02T16:55:57.862203Z"
    }
   },
   "outputs": [],
   "source": [
    "assert 'xls' not in ext  # because the extension of \"xls\" is the empty string, which is not in the mapping\n",
    "\n",
    "# list(ext.items())  # would fail\n",
    "# dict(ext)  # would fail\n",
    "# ext.update({'md': lambda x: x.split('|')}) would actually add a key for an empty extension!!!\n"
   ]
  },
  {
   "cell_type": "markdown",
   "id": "c08365cb",
   "metadata": {},
   "source": [
    "You can stack mappings this way:"
   ]
  },
  {
   "cell_type": "code",
   "execution_count": 30,
   "id": "6f832ebd",
   "metadata": {
    "ExecuteTime": {
     "end_time": "2023-02-02T15:12:26.830450Z",
     "start_time": "2023-02-02T15:12:26.814593Z"
    }
   },
   "outputs": [
    {
     "name": "stdout",
     "output_type": "stream",
     "text": [
      "http https xls xlsx csv tsv json html p pickle foo\n"
     ]
    }
   ],
   "source": [
    "from collections import ChainMap\n",
    "\n",
    "route = ChainMap(ext, protocol)\n",
    "\n",
    "print(*route)"
   ]
  },
  {
   "cell_type": "code",
   "execution_count": 40,
   "id": "1b1734db",
   "metadata": {
    "ExecuteTime": {
     "end_time": "2023-02-02T16:24:40.045371Z",
     "start_time": "2023-02-02T16:24:40.029427Z"
    }
   },
   "outputs": [
    {
     "data": {
      "text/plain": [
       "<function graze.base.graze(url: str, rootdir: str = '/Users/thorwhalen/graze', source=<graze.base.Internet object at 0x15f00da20>, max_age: Union[int, float, NoneType] = None)>"
      ]
     },
     "execution_count": 40,
     "metadata": {},
     "output_type": "execute_result"
    }
   ],
   "source": [
    "route['http://google.com']"
   ]
  },
  {
   "cell_type": "code",
   "execution_count": 41,
   "id": "00b31d3a",
   "metadata": {
    "ExecuteTime": {
     "end_time": "2023-02-02T16:24:44.073028Z",
     "start_time": "2023-02-02T16:24:44.063479Z"
    }
   },
   "outputs": [
    {
     "data": {
      "text/plain": [
       "functools.partial(<function read_excel at 0x1321eab90>, index=False)"
      ]
     },
     "execution_count": 41,
     "metadata": {},
     "output_type": "execute_result"
    }
   ],
   "source": [
    "route['asdf.xls']"
   ]
  },
  {
   "cell_type": "code",
   "execution_count": 43,
   "id": "4c2bae11",
   "metadata": {
    "ExecuteTime": {
     "end_time": "2023-02-02T16:25:50.380210Z",
     "start_time": "2023-02-02T16:25:50.369734Z"
    }
   },
   "outputs": [
    {
     "data": {
      "text/plain": [
       "'another_resolution'"
      ]
     },
     "execution_count": 43,
     "metadata": {},
     "output_type": "execute_result"
    }
   ],
   "source": [
    "new_route = route.new_child({'asdf.xls': 'another_resolution'})\n",
    "new_route['asdf.xls']"
   ]
  },
  {
   "cell_type": "code",
   "execution_count": 44,
   "id": "374a8f07",
   "metadata": {
    "ExecuteTime": {
     "end_time": "2023-02-02T16:26:01.330172Z",
     "start_time": "2023-02-02T16:26:01.320487Z"
    }
   },
   "outputs": [
    {
     "data": {
      "text/plain": [
       "functools.partial(<function read_excel at 0x1321eab90>, index=False)"
      ]
     },
     "execution_count": 44,
     "metadata": {},
     "output_type": "execute_result"
    }
   ],
   "source": [
    "new_route['blah.xls']"
   ]
  },
  {
   "cell_type": "code",
   "execution_count": 45,
   "id": "6bb9251f",
   "metadata": {
    "ExecuteTime": {
     "end_time": "2023-02-02T16:26:38.586332Z",
     "start_time": "2023-02-02T16:26:38.580853Z"
    }
   },
   "outputs": [],
   "source": [
    "new_route = route.new_child(\n",
    "    mk_key_func_reader(get_ext, {'xls': 'my_new_way_of_reading_xls'})\n",
    ")"
   ]
  },
  {
   "cell_type": "code",
   "execution_count": null,
   "id": "6d0f9399",
   "metadata": {},
   "outputs": [],
   "source": []
  },
  {
   "cell_type": "code",
   "execution_count": null,
   "id": "1c0f6b45",
   "metadata": {},
   "outputs": [],
   "source": []
  },
  {
   "cell_type": "code",
   "execution_count": 38,
   "id": "a0acf755",
   "metadata": {
    "ExecuteTime": {
     "end_time": "2023-02-02T17:32:59.586286Z",
     "start_time": "2023-02-02T17:32:59.560143Z"
    }
   },
   "outputs": [],
   "source": [
    "from dol import Files, FilesOfZip, Pipe\n",
    "import pandas as pd\n",
    "from functools import partial\n",
    "import io\n",
    "\n",
    "ext = mk_key_func_reader(\n",
    "    get_ext, \n",
    "    dict(\n",
    "        dflt_ext_mapping, json=Pipe(io.BytesIO, partial(pd.read_json, orient='index'))\n",
    "    )\n",
    ")\n",
    "\n",
    "table_trans = wrap_kvs(postget=lambda k, v: ext[k](v))\n",
    "\n",
    "TableFiles = table_trans(Files)\n",
    "TableZipFiles = table_trans(FilesOfZip)"
   ]
  },
  {
   "cell_type": "code",
   "execution_count": 39,
   "id": "cacd8921",
   "metadata": {
    "ExecuteTime": {
     "end_time": "2023-02-02T17:33:01.216299Z",
     "start_time": "2023-02-02T17:33:01.173266Z"
    }
   },
   "outputs": [],
   "source": [
    "s = TableZipFiles('/Users/thorwhalen/Dropbox/_odata/sound/induction_motor_data.zip')"
   ]
  },
  {
   "cell_type": "code",
   "execution_count": 42,
   "id": "c63d7eab",
   "metadata": {
    "ExecuteTime": {
     "end_time": "2023-02-02T17:33:24.368181Z",
     "start_time": "2023-02-02T17:33:24.339077Z"
    }
   },
   "outputs": [
    {
     "data": {
      "text/plain": [
       "3909"
      ]
     },
     "execution_count": 42,
     "metadata": {},
     "output_type": "execute_result"
    }
   ],
   "source": [
    "len(s)"
   ]
  },
  {
   "cell_type": "code",
   "execution_count": 43,
   "id": "e3d28ae9",
   "metadata": {
    "ExecuteTime": {
     "end_time": "2023-02-02T17:33:37.897880Z",
     "start_time": "2023-02-02T17:33:37.858299Z"
    }
   },
   "outputs": [
    {
     "name": "stdout",
     "output_type": "stream",
     "text": [
      "k='induction_motor_data/Bearing/Bearing_1250rpm/2021_01_27_15_03_06.json'\n"
     ]
    },
    {
     "data": {
      "text/html": [
       "<div>\n",
       "<style scoped>\n",
       "    .dataframe tbody tr th:only-of-type {\n",
       "        vertical-align: middle;\n",
       "    }\n",
       "\n",
       "    .dataframe tbody tr th {\n",
       "        vertical-align: top;\n",
       "    }\n",
       "\n",
       "    .dataframe thead th {\n",
       "        text-align: right;\n",
       "    }\n",
       "</style>\n",
       "<table border=\"1\" class=\"dataframe\">\n",
       "  <thead>\n",
       "    <tr style=\"text-align: right;\">\n",
       "      <th></th>\n",
       "      <th>0</th>\n",
       "    </tr>\n",
       "  </thead>\n",
       "  <tbody>\n",
       "    <tr>\n",
       "      <th>dataType</th>\n",
       "      <td>completeSample</td>\n",
       "    </tr>\n",
       "    <tr>\n",
       "      <th>deviceId</th>\n",
       "      <td>00000781O</td>\n",
       "    </tr>\n",
       "    <tr>\n",
       "      <th>flux</th>\n",
       "      <td>[31.3639, 23.8975, 35.5119, 27.0085, 16.6385, ...</td>\n",
       "    </tr>\n",
       "    <tr>\n",
       "      <th>motorId</th>\n",
       "      <td>adi#0c7dbd85-a5e7-4e6a-b37c-a49e1adaca45</td>\n",
       "    </tr>\n",
       "    <tr>\n",
       "      <th>tempe</th>\n",
       "      <td>[25.875, 25.875]</td>\n",
       "    </tr>\n",
       "    <tr>\n",
       "      <th>tempm</th>\n",
       "      <td>[25.9375, 25.9375]</td>\n",
       "    </tr>\n",
       "    <tr>\n",
       "      <th>tenantId</th>\n",
       "      <td>adi</td>\n",
       "    </tr>\n",
       "    <tr>\n",
       "      <th>timestamp</th>\n",
       "      <td>1611756186321</td>\n",
       "    </tr>\n",
       "    <tr>\n",
       "      <th>ts</th>\n",
       "      <td>60814</td>\n",
       "    </tr>\n",
       "    <tr>\n",
       "      <th>tsr</th>\n",
       "      <td>False</td>\n",
       "    </tr>\n",
       "    <tr>\n",
       "      <th>vbat</th>\n",
       "      <td>[3.14817659, 3.130985182, 3.122389478, 3.14817...</td>\n",
       "    </tr>\n",
       "    <tr>\n",
       "      <th>vibx</th>\n",
       "      <td>[-0.15531, -0.48733000000000004, 0.84075000000...</td>\n",
       "    </tr>\n",
       "    <tr>\n",
       "      <th>vibz</th>\n",
       "      <td>[-2.41427, -0.42215, -1.08619, -0.256140000000...</td>\n",
       "    </tr>\n",
       "  </tbody>\n",
       "</table>\n",
       "</div>"
      ],
      "text/plain": [
       "                                                           0\n",
       "dataType                                      completeSample\n",
       "deviceId                                           00000781O\n",
       "flux       [31.3639, 23.8975, 35.5119, 27.0085, 16.6385, ...\n",
       "motorId             adi#0c7dbd85-a5e7-4e6a-b37c-a49e1adaca45\n",
       "tempe                                       [25.875, 25.875]\n",
       "tempm                                     [25.9375, 25.9375]\n",
       "tenantId                                                 adi\n",
       "timestamp                                      1611756186321\n",
       "ts                                                     60814\n",
       "tsr                                                    False\n",
       "vbat       [3.14817659, 3.130985182, 3.122389478, 3.14817...\n",
       "vibx       [-0.15531, -0.48733000000000004, 0.84075000000...\n",
       "vibz       [-2.41427, -0.42215, -1.08619, -0.256140000000..."
      ]
     },
     "execution_count": 43,
     "metadata": {},
     "output_type": "execute_result"
    }
   ],
   "source": [
    "k, v = s.head()\n",
    "print(f\"{k=}\")\n",
    "v"
   ]
  },
  {
   "cell_type": "code",
   "execution_count": null,
   "id": "427718cf",
   "metadata": {},
   "outputs": [],
   "source": []
  }
 ],
 "metadata": {
  "kernelspec": {
   "display_name": "Python 3 (ipykernel)",
   "language": "python",
   "name": "python3"
  },
  "language_info": {
   "codemirror_mode": {
    "name": "ipython",
    "version": 3
   },
   "file_extension": ".py",
   "mimetype": "text/x-python",
   "name": "python",
   "nbconvert_exporter": "python",
   "pygments_lexer": "ipython3",
   "version": "3.10.8"
  },
  "toc": {
   "base_numbering": 1,
   "nav_menu": {},
   "number_sections": true,
   "sideBar": true,
   "skip_h1_title": false,
   "title_cell": "Table of Contents",
   "title_sidebar": "Contents",
   "toc_cell": false,
   "toc_position": {},
   "toc_section_display": true,
   "toc_window_display": false
  }
 },
 "nbformat": 4,
 "nbformat_minor": 5
}
