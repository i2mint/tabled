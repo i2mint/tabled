{
 "cells": [
  {
   "cell_type": "code",
   "execution_count": null,
   "metadata": {},
   "outputs": [],
   "source": []
  },
  {
   "cell_type": "markdown",
   "metadata": {},
   "source": [
    "# DfFiles\n",
    "\n",
    "This notebook demonstrates how to use `DfFiles` to store and retrieve pandas DataFrames using various file formats."
   ]
  },
  {
   "cell_type": "markdown",
   "metadata": {},
   "source": [
    "## Setup\n",
    "\n",
    "First, let's import required packages and define our test data:"
   ]
  },
  {
   "cell_type": "code",
   "execution_count": 2,
   "metadata": {},
   "outputs": [],
   "source": [
    "import os\n",
    "import shutil\n",
    "import tempfile\n",
    "\n",
    "import pandas as pd\n",
    "from tabled import DfFiles\n",
    "\n",
    "# Test data dictionary\n",
    "misc_small_dicts = {\n",
    "    \"fantasy_tavern_menu\": {\n",
    "        \"item\": [\"Dragon Ale\", \"Elf Bread\", \"Goblin Stew\"],\n",
    "        \"price\": [7.5, 3.0, 5.5],\n",
    "        \"is_alcoholic\": [True, False, False],\n",
    "        \"servings_left\": [12, 25, 8],\n",
    "    },\n",
    "    \"alien_abduction_log\": {\n",
    "        \"abductee_name\": [\"Bob\", \"Alice\", \"Zork\"],\n",
    "        \"location\": [\"Kansas City\", \"Roswell\", \"Jupiter\"],\n",
    "        \"duration_minutes\": [15, 120, 30],\n",
    "        \"was_returned\": [True, False, True],\n",
    "    }\n",
    "}"
   ]
  },
  {
   "cell_type": "markdown",
   "metadata": {},
   "source": [
    "## Creating Test Directory\n",
    "\n",
    "We'll create a temporary directory for our files:"
   ]
  },
  {
   "cell_type": "code",
   "execution_count": 3,
   "metadata": {},
   "outputs": [
    {
     "name": "stdout",
     "output_type": "stream",
     "text": [
      "Created directory at: /var/folders/mc/c070wfh51kxd9lft8dl74q1r0000gn/T/tabled_df_files_test\n",
      "Created directory at: /var/folders/mc/c070wfh51kxd9lft8dl74q1r0000gn/T/tabled_df_files_test\n"
     ]
    }
   ],
   "source": [
    "def create_test_directory():\n",
    "    # Create a directory for the test files\n",
    "    rootdir = os.path.join(tempfile.gettempdir(), 'tabled_df_files_test')\n",
    "    if os.path.exists(rootdir):\n",
    "        shutil.rmtree(rootdir)\n",
    "    os.makedirs(rootdir)\n",
    "    print(f\"Created directory at: {rootdir}\")\n",
    "    return rootdir\n",
    "\n",
    "rootdir = create_test_directory()\n",
    "print(f\"Created directory at: {rootdir}\")"
   ]
  },
  {
   "cell_type": "markdown",
   "metadata": {},
   "source": [
    "## Initialize DfFiles\n",
    "\n",
    "Create a new DfFiles instance pointing to our directory:"
   ]
  },
  {
   "cell_type": "code",
   "execution_count": 4,
   "metadata": {},
   "outputs": [],
   "source": [
    "df_files = DfFiles(rootdir)"
   ]
  },
  {
   "cell_type": "markdown",
   "metadata": {},
   "source": [
    "Let's verify it starts empty:"
   ]
  },
  {
   "cell_type": "code",
   "execution_count": 5,
   "metadata": {},
   "outputs": [
    {
     "data": {
      "text/plain": [
       "[]"
      ]
     },
     "execution_count": 5,
     "metadata": {},
     "output_type": "execute_result"
    }
   ],
   "source": [
    "list(df_files)"
   ]
  },
  {
   "cell_type": "markdown",
   "metadata": {},
   "source": [
    "## Creating and Saving DataFrames\n",
    "\n",
    "Let's create DataFrames from our test data:"
   ]
  },
  {
   "cell_type": "code",
   "execution_count": 6,
   "metadata": {},
   "outputs": [
    {
     "name": "stdout",
     "output_type": "stream",
     "text": [
      "Fantasy Tavern Menu:\n"
     ]
    },
    {
     "data": {
      "text/html": [
       "<div>\n",
       "<style scoped>\n",
       "    .dataframe tbody tr th:only-of-type {\n",
       "        vertical-align: middle;\n",
       "    }\n",
       "\n",
       "    .dataframe tbody tr th {\n",
       "        vertical-align: top;\n",
       "    }\n",
       "\n",
       "    .dataframe thead th {\n",
       "        text-align: right;\n",
       "    }\n",
       "</style>\n",
       "<table border=\"1\" class=\"dataframe\">\n",
       "  <thead>\n",
       "    <tr style=\"text-align: right;\">\n",
       "      <th></th>\n",
       "      <th>item</th>\n",
       "      <th>price</th>\n",
       "      <th>is_alcoholic</th>\n",
       "      <th>servings_left</th>\n",
       "    </tr>\n",
       "  </thead>\n",
       "  <tbody>\n",
       "    <tr>\n",
       "      <th>0</th>\n",
       "      <td>Dragon Ale</td>\n",
       "      <td>7.5</td>\n",
       "      <td>True</td>\n",
       "      <td>12</td>\n",
       "    </tr>\n",
       "    <tr>\n",
       "      <th>1</th>\n",
       "      <td>Elf Bread</td>\n",
       "      <td>3.0</td>\n",
       "      <td>False</td>\n",
       "      <td>25</td>\n",
       "    </tr>\n",
       "    <tr>\n",
       "      <th>2</th>\n",
       "      <td>Goblin Stew</td>\n",
       "      <td>5.5</td>\n",
       "      <td>False</td>\n",
       "      <td>8</td>\n",
       "    </tr>\n",
       "  </tbody>\n",
       "</table>\n",
       "</div>"
      ],
      "text/plain": [
       "          item  price  is_alcoholic  servings_left\n",
       "0   Dragon Ale    7.5          True             12\n",
       "1    Elf Bread    3.0         False             25\n",
       "2  Goblin Stew    5.5         False              8"
      ]
     },
     "metadata": {},
     "output_type": "display_data"
    },
    {
     "name": "stdout",
     "output_type": "stream",
     "text": [
      "\n",
      "Alien Abduction Log:\n"
     ]
    },
    {
     "data": {
      "text/html": [
       "<div>\n",
       "<style scoped>\n",
       "    .dataframe tbody tr th:only-of-type {\n",
       "        vertical-align: middle;\n",
       "    }\n",
       "\n",
       "    .dataframe tbody tr th {\n",
       "        vertical-align: top;\n",
       "    }\n",
       "\n",
       "    .dataframe thead th {\n",
       "        text-align: right;\n",
       "    }\n",
       "</style>\n",
       "<table border=\"1\" class=\"dataframe\">\n",
       "  <thead>\n",
       "    <tr style=\"text-align: right;\">\n",
       "      <th></th>\n",
       "      <th>abductee_name</th>\n",
       "      <th>location</th>\n",
       "      <th>duration_minutes</th>\n",
       "      <th>was_returned</th>\n",
       "    </tr>\n",
       "  </thead>\n",
       "  <tbody>\n",
       "    <tr>\n",
       "      <th>0</th>\n",
       "      <td>Bob</td>\n",
       "      <td>Kansas City</td>\n",
       "      <td>15</td>\n",
       "      <td>True</td>\n",
       "    </tr>\n",
       "    <tr>\n",
       "      <th>1</th>\n",
       "      <td>Alice</td>\n",
       "      <td>Roswell</td>\n",
       "      <td>120</td>\n",
       "      <td>False</td>\n",
       "    </tr>\n",
       "    <tr>\n",
       "      <th>2</th>\n",
       "      <td>Zork</td>\n",
       "      <td>Jupiter</td>\n",
       "      <td>30</td>\n",
       "      <td>True</td>\n",
       "    </tr>\n",
       "  </tbody>\n",
       "</table>\n",
       "</div>"
      ],
      "text/plain": [
       "  abductee_name     location  duration_minutes  was_returned\n",
       "0           Bob  Kansas City                15          True\n",
       "1         Alice      Roswell               120         False\n",
       "2          Zork      Jupiter                30          True"
      ]
     },
     "metadata": {},
     "output_type": "display_data"
    }
   ],
   "source": [
    "fantasy_tavern_menu_df = pd.DataFrame(misc_small_dicts['fantasy_tavern_menu'])\n",
    "alien_abduction_log_df = pd.DataFrame(misc_small_dicts['alien_abduction_log'])\n",
    "\n",
    "print(\"Fantasy Tavern Menu:\")\n",
    "display(fantasy_tavern_menu_df)\n",
    "print(\"\\nAlien Abduction Log:\")\n",
    "display(alien_abduction_log_df)"
   ]
  },
  {
   "cell_type": "markdown",
   "metadata": {},
   "source": [
    "Now let's save these DataFrames using different formats:"
   ]
  },
  {
   "cell_type": "code",
   "execution_count": 7,
   "metadata": {},
   "outputs": [],
   "source": [
    "df_files['fantasy_tavern_menu.csv'] = fantasy_tavern_menu_df\n",
    "df_files['alien_abduction_log.json'] = alien_abduction_log_df"
   ]
  },
  {
   "cell_type": "markdown",
   "metadata": {},
   "source": [
    "## Reading Data Back\n",
    "\n",
    "Let's verify we can read the data back correctly:"
   ]
  },
  {
   "cell_type": "code",
   "execution_count": 8,
   "metadata": {},
   "outputs": [
    {
     "data": {
      "text/html": [
       "<div>\n",
       "<style scoped>\n",
       "    .dataframe tbody tr th:only-of-type {\n",
       "        vertical-align: middle;\n",
       "    }\n",
       "\n",
       "    .dataframe tbody tr th {\n",
       "        vertical-align: top;\n",
       "    }\n",
       "\n",
       "    .dataframe thead th {\n",
       "        text-align: right;\n",
       "    }\n",
       "</style>\n",
       "<table border=\"1\" class=\"dataframe\">\n",
       "  <thead>\n",
       "    <tr style=\"text-align: right;\">\n",
       "      <th></th>\n",
       "      <th>item</th>\n",
       "      <th>price</th>\n",
       "      <th>is_alcoholic</th>\n",
       "      <th>servings_left</th>\n",
       "    </tr>\n",
       "  </thead>\n",
       "  <tbody>\n",
       "    <tr>\n",
       "      <th>0</th>\n",
       "      <td>Dragon Ale</td>\n",
       "      <td>7.5</td>\n",
       "      <td>True</td>\n",
       "      <td>12</td>\n",
       "    </tr>\n",
       "    <tr>\n",
       "      <th>1</th>\n",
       "      <td>Elf Bread</td>\n",
       "      <td>3.0</td>\n",
       "      <td>False</td>\n",
       "      <td>25</td>\n",
       "    </tr>\n",
       "    <tr>\n",
       "      <th>2</th>\n",
       "      <td>Goblin Stew</td>\n",
       "      <td>5.5</td>\n",
       "      <td>False</td>\n",
       "      <td>8</td>\n",
       "    </tr>\n",
       "  </tbody>\n",
       "</table>\n",
       "</div>"
      ],
      "text/plain": [
       "          item  price  is_alcoholic  servings_left\n",
       "0   Dragon Ale    7.5          True             12\n",
       "1    Elf Bread    3.0         False             25\n",
       "2  Goblin Stew    5.5         False              8"
      ]
     },
     "execution_count": 8,
     "metadata": {},
     "output_type": "execute_result"
    }
   ],
   "source": [
    "saved_df = df_files['fantasy_tavern_menu.csv']\n",
    "saved_df"
   ]
  },
  {
   "cell_type": "markdown",
   "metadata": {},
   "source": [
    "## MutableMapping Interface\n",
    "\n",
    "DfFiles implements the MutableMapping interface, making it behave like a dictionary.\n",
    "\n",
    "Let's see how many files we have:"
   ]
  },
  {
   "cell_type": "code",
   "execution_count": 9,
   "metadata": {},
   "outputs": [
    {
     "data": {
      "text/plain": [
       "2"
      ]
     },
     "execution_count": 9,
     "metadata": {},
     "output_type": "execute_result"
    }
   ],
   "source": [
    "len(df_files)"
   ]
  },
  {
   "cell_type": "markdown",
   "metadata": {},
   "source": [
    "List all available files:"
   ]
  },
  {
   "cell_type": "code",
   "execution_count": 10,
   "metadata": {},
   "outputs": [
    {
     "data": {
      "text/plain": [
       "['fantasy_tavern_menu.csv', 'alien_abduction_log.json']"
      ]
     },
     "execution_count": 10,
     "metadata": {},
     "output_type": "execute_result"
    }
   ],
   "source": [
    "list(df_files)"
   ]
  },
  {
   "cell_type": "markdown",
   "metadata": {},
   "source": [
    "Check if a file exists:"
   ]
  },
  {
   "cell_type": "code",
   "execution_count": 11,
   "metadata": {},
   "outputs": [
    {
     "data": {
      "text/plain": [
       "True"
      ]
     },
     "execution_count": 11,
     "metadata": {},
     "output_type": "execute_result"
    }
   ],
   "source": [
    "'fantasy_tavern_menu.csv' in df_files"
   ]
  },
  {
   "cell_type": "markdown",
   "metadata": {},
   "source": [
    "## Supported File Extensions\n",
    "\n",
    "Let's see what file formats DfFiles supports out of the box.\n",
    "\n",
    "(**Note that some of these will require installing extra packages, which you'll realize if you get an ImportError**)"
   ]
  },
  {
   "cell_type": "code",
   "execution_count": 12,
   "metadata": {},
   "outputs": [
    {
     "name": "stdout",
     "output_type": "stream",
     "text": [
      "Encoder supported extensions:\n",
      "csv, txt, tsv, json, html, p, pickle, pkl, npy, parquet, zip, feather, h5, hdf5, stata, dta, sql, sqlite, gbq, xls, xlsx, xml, orc\n"
     ]
    }
   ],
   "source": [
    "print(\"Encoder supported extensions:\")\n",
    "list_of_encoder_supported_extensions = list(df_files.extension_encoder_mapping)\n",
    "print(*list_of_encoder_supported_extensions, sep=', ')"
   ]
  },
  {
   "cell_type": "code",
   "execution_count": 13,
   "metadata": {},
   "outputs": [
    {
     "name": "stdout",
     "output_type": "stream",
     "text": [
      "Decoder supported extensions:\n",
      "csv, txt, tsv, parquet, json, html, p, pickle, pkl, xml, sql, sqlite, feather, stata, dta, sas, h5, hdf5, xls, xlsx, orc, sav\n"
     ]
    }
   ],
   "source": [
    "print(\"Decoder supported extensions:\")\n",
    "list_of_decoder_supported_extensions = list(df_files.extension_decoder_mapping)\n",
    "print(*list_of_decoder_supported_extensions, sep=', ')"
   ]
  },
  {
   "cell_type": "markdown",
   "metadata": {},
   "source": [
    "## Testing Different Extensions\n",
    "\n",
    "Let's try saving and loading our test DataFrame in different formats:"
   ]
  },
  {
   "cell_type": "code",
   "execution_count": 14,
   "metadata": {},
   "outputs": [
    {
     "data": {
      "text/plain": [
       "['csv',\n",
       " 'dta',\n",
       " 'feather',\n",
       " 'h5',\n",
       " 'hdf5',\n",
       " 'html',\n",
       " 'json',\n",
       " 'orc',\n",
       " 'p',\n",
       " 'parquet',\n",
       " 'pickle',\n",
       " 'pkl',\n",
       " 'sql',\n",
       " 'sqlite',\n",
       " 'stata',\n",
       " 'tsv',\n",
       " 'txt',\n",
       " 'xls',\n",
       " 'xlsx',\n",
       " 'xml']"
      ]
     },
     "execution_count": 14,
     "metadata": {},
     "output_type": "execute_result"
    }
   ],
   "source": [
    "extensions_supported_by_encoder_and_decoder = (\n",
    "    set(list_of_encoder_supported_extensions) & set(list_of_decoder_supported_extensions)\n",
    ")\n",
    "sorted(extensions_supported_by_encoder_and_decoder)"
   ]
  },
  {
   "cell_type": "code",
   "execution_count": null,
   "metadata": {},
   "outputs": [],
   "source": []
  },
  {
   "cell_type": "code",
   "execution_count": null,
   "metadata": {},
   "outputs": [
    {
     "name": "stdout",
     "output_type": "stream",
     "text": [
      "Testing extension: csv\n",
      "\tExtension csv: ✓\n",
      "Testing extension: feather\n",
      "\tExtension feather: ✓\n",
      "Testing extension: json\n",
      "\tExtension json: ✓\n",
      "Testing extension: orc\n",
      "\tExtension orc: ✓\n",
      "Testing extension: parquet\n",
      "\tExtension parquet: ✓\n",
      "Testing extension: pkl\n",
      "\tExtension pkl: ✓\n",
      "Testing extension: tsv\n",
      "\tExtension tsv: ✓\n",
      "Testing extension: dta\n",
      "\u001b[91m\tFix extension dta: ✗\u001b[0m\n",
      "Testing extension: h5\n",
      "\u001b[91m\tFix extension h5: ✗\u001b[0m\n",
      "Testing extension: html\n",
      "\u001b[91m\tFix extension html: ✗\u001b[0m\n",
      "Testing extension: sql\n",
      "\u001b[91m\tFix extension sql: ✗\u001b[0m\n",
      "Testing extension: xml\n",
      "\u001b[91m\tFix extension xml: ✗\u001b[0m\n"
     ]
    }
   ],
   "source": [
    "def test_extension(ext):\n",
    "    filename = f'test_file.{ext}'\n",
    "    try:\n",
    "        df_files[filename] = fantasy_tavern_menu_df\n",
    "        df_loaded = df_files[filename]\n",
    "        # test the decoded df is the same as the one that was saved (round-trip test)\n",
    "        # Note that we drop the index, since the index is not saved in the file by default for all codecs\n",
    "        pd.testing.assert_frame_equal(\n",
    "            fantasy_tavern_menu_df.reset_index(drop=True),\n",
    "            df_loaded.reset_index(drop=True),\n",
    "        )\n",
    "        return True\n",
    "    except Exception as e:\n",
    "        return False\n",
    "\n",
    "\n",
    "test_extensions = [\n",
    "    'csv',\n",
    "    'feather',\n",
    "    'json',\n",
    "    'orc',\n",
    "    'parquet',\n",
    "    'pkl',\n",
    "    'tsv',  \n",
    "    # 'dta',  # TODO: fix\n",
    "    # 'h5',  # TODO: fix\n",
    "    # 'html',  # TODO: fix\n",
    "    # 'sql',  # TODO: fix\n",
    "    # 'xml',  # TODO: fix\n",
    "]\n",
    "\n",
    "for ext in test_extensions:\n",
    "    print(\"Testing extension:\", ext)\n",
    "    success = test_extension(ext)\n",
    "    if success:\n",
    "        print(f\"\\tExtension {ext}: ✓\")\n",
    "    else:\n",
    "        print('\\033[91m' + f\"\\tFix extension {ext}: ✗\" + '\\033[0m')\n",
    "        \n",
    "    # marker = '✓' if success else '\\033[91m✗\\033[0m'\n",
    "    # print(f\"\\tExtension {ext}: {marker}\")"
   ]
  },
  {
   "cell_type": "code",
   "execution_count": null,
   "metadata": {},
   "outputs": [],
   "source": []
  },
  {
   "cell_type": "code",
   "execution_count": null,
   "metadata": {},
   "outputs": [],
   "source": []
  },
  {
   "cell_type": "code",
   "execution_count": null,
   "metadata": {},
   "outputs": [],
   "source": []
  },
  {
   "cell_type": "code",
   "execution_count": null,
   "metadata": {},
   "outputs": [],
   "source": []
  },
  {
   "cell_type": "markdown",
   "metadata": {},
   "source": [
    "# Appendix: WIP"
   ]
  },
  {
   "cell_type": "code",
   "execution_count": 3,
   "metadata": {},
   "outputs": [
    {
     "name": "stdout",
     "output_type": "stream",
     "text": [
      "Created directory at: /var/folders/mc/c070wfh51kxd9lft8dl74q1r0000gn/T/tabled_df_files_test\n"
     ]
    }
   ],
   "source": [
    "from tabled import DfFiles\n",
    "import pandas as pd \n",
    "\n",
    "def create_test_directory():\n",
    "    import os, shutil, tempfile\n",
    "    # Create a directory for the test files\n",
    "    rootdir = os.path.join(tempfile.gettempdir(), 'tabled_df_files_test')\n",
    "    if os.path.exists(rootdir):\n",
    "        shutil.rmtree(rootdir)\n",
    "    os.makedirs(rootdir)\n",
    "    print(f\"Created directory at: {rootdir}\")\n",
    "    return rootdir\n",
    "\n",
    "rootdir = create_test_directory()\n",
    "df_files = DfFiles(rootdir)\n"
   ]
  },
  {
   "cell_type": "code",
   "execution_count": 15,
   "metadata": {},
   "outputs": [],
   "source": [
    "\n",
    "ext = 'csv'\n",
    "fantasy_tavern_menu_df = pd.DataFrame(\n",
    "     {\n",
    "        \"item\": [\"Dragon Ale\", \"Elf Bread\", \"Goblin Stew\"],\n",
    "        \"price\": [7.5, 3.0, 5.5],\n",
    "        \"is_alcoholic\": [True, False, False],\n",
    "        \"servings_left\": [12, 25, 8],\n",
    "    }\n",
    ")\n",
    "filename = f'test_file.{ext}'\n",
    "\n",
    "fantasy_tavern_menu_df\n",
    "\n",
    "\n",
    "df = fantasy_tavern_menu_df.copy()\n",
    "df_files[filename] = df\n",
    "df_loaded = df_files[filename]\n",
    "# test the decoded df is the same as the one that was saved (round-trip test)\n",
    "# Note that we drop the index, since the index is not saved in the file by default for all codecs\n",
    "pd.testing.assert_frame_equal(\n",
    "    df.reset_index(drop=True),\n",
    "    df_loaded.reset_index(drop=True),\n",
    ")"
   ]
  },
  {
   "cell_type": "code",
   "execution_count": null,
   "metadata": {},
   "outputs": [],
   "source": []
  },
  {
   "cell_type": "code",
   "execution_count": null,
   "metadata": {},
   "outputs": [],
   "source": []
  }
 ],
 "metadata": {
  "kernelspec": {
   "display_name": "p10",
   "language": "python",
   "name": "python3"
  },
  "language_info": {
   "codemirror_mode": {
    "name": "ipython",
    "version": 3
   },
   "file_extension": ".py",
   "mimetype": "text/x-python",
   "name": "python",
   "nbconvert_exporter": "python",
   "pygments_lexer": "ipython3",
   "version": "3.10.13"
  }
 },
 "nbformat": 4,
 "nbformat_minor": 2
}
